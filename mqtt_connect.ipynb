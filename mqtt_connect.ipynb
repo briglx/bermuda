{
 "cells": [
  {
   "cell_type": "code",
   "execution_count": 1,
   "metadata": {},
   "outputs": [],
   "source": [
    "import paho.mqtt.client as mqtt\n",
    "from os import environ\n",
    "from dotenv import load_dotenv"
   ]
  },
  {
   "cell_type": "code",
   "execution_count": 2,
   "metadata": {},
   "outputs": [],
   "source": [
    " mqtt_client = mqtt.Client()\n"
   ]
  },
  {
   "cell_type": "code",
   "execution_count": 15,
   "metadata": {},
   "outputs": [],
   "source": [
    "load_dotenv()\n",
    "\n",
    "CONF_MQTT_BROCKER_USERNAME = environ.get(\"CONF_MQTT_BROCKER_USERNAME\")\n",
    "CONF_MQTT_BROKER_PASSWORD = environ.get(\"CONF_MQTT_BROKER_PASSWORD\")\n",
    "CONF_MQTT_BROKER_ADDRESS = environ.get(\"CONF_MQTT_BROKER_ADDRESS\")\n",
    "CONF_MQTT_BROKER_PORT = environ.get(\"CONF_MQTT_BROKER_PORT\")\n",
    "CONF_MQTT_BROCKER_USERNAME = environ.get(\"CONF_MQTT_BROCKER_USERNAME\")\n",
    "CONF_MQTT_BROCKER_USERNAME = environ.get(\"CONF_MQTT_BROCKER_USERNAME\")\n"
   ]
  },
  {
   "cell_type": "code",
   "execution_count": 16,
   "metadata": {},
   "outputs": [
    {
     "data": {
      "text/plain": [
       "0"
      ]
     },
     "execution_count": 16,
     "metadata": {},
     "output_type": "execute_result"
    }
   ],
   "source": [
    "mqtt_client.username_pw_set(CONF_MQTT_BROCKER_USERNAME, CONF_MQTT_BROKER_PASSWORD)\n",
    "mqtt_client.connect(CONF_MQTT_BROKER_ADDRESS, CONF_MQTT_BROKER_PORT)"
   ]
  },
  {
   "cell_type": "code",
   "execution_count": null,
   "metadata": {},
   "outputs": [],
   "source": []
  }
 ],
 "metadata": {
  "kernelspec": {
   "display_name": "Python 3",
   "language": "python",
   "name": "python3"
  },
  "language_info": {
   "codemirror_mode": {
    "name": "ipython",
    "version": 3
   },
   "file_extension": ".py",
   "mimetype": "text/x-python",
   "name": "python",
   "nbconvert_exporter": "python",
   "pygments_lexer": "ipython3",
   "version": "3.5.6"
  }
 },
 "nbformat": 4,
 "nbformat_minor": 2
}
