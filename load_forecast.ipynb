{
 "cells": [
  {
   "cell_type": "code",
   "execution_count": 1,
   "metadata": {},
   "outputs": [],
   "source": [
    "import forecastio\n",
    "from datetime import datetime, timedelta\n",
    "from os import environ\n",
    "from dotenv import load_dotenv"
   ]
  },
  {
   "cell_type": "code",
   "execution_count": null,
   "metadata": {},
   "outputs": [],
   "source": [
    "load_dotenv()\n",
    "\n",
    "home_latitude = environ.get(\"HOME_LATITUDE\")\n",
    "home_longitude = environ.get(\"HOME_LONGITUDE\")\n",
    "dark_sky_api_key = environ.get(\"DARK_SKY_API_KEY\")\n",
    "mqtt_broker_address = environ.get(\"CONF_MQTT_BROKER_ADDRESS\")\n",
    "mqtt_broker_username = environ.get(\"CONF_MQTT_BROCKER_USERNAME\")\n",
    "mqtt_broker_password = environ.get(\"CONF_MQTT_BROKER_PASSWORD\")\n",
    "mqtt_broker_port = environ.get(\"CONF_MQTT_BROKER_PORT\")\n",
    "\n",
    "LOW_TEMP = 60"
   ]
  },
  {
   "cell_type": "code",
   "execution_count": 3,
   "metadata": {},
   "outputs": [],
   "source": [
    "cur_time = datetime.utcnow()\n",
    "cur_time = cur_time.replace(hour=0, minute=0, second=0, microsecond=0)\n",
    "last_week = cur_time - timedelta(days=7)"
   ]
  },
  {
   "cell_type": "code",
   "execution_count": 4,
   "metadata": {},
   "outputs": [
    {
     "data": {
      "text/plain": [
       "datetime.datetime(2019, 9, 23, 0, 0)"
      ]
     },
     "execution_count": 4,
     "metadata": {},
     "output_type": "execute_result"
    }
   ],
   "source": [
    "cur_time"
   ]
  },
  {
   "cell_type": "code",
   "execution_count": 24,
   "metadata": {},
   "outputs": [
    {
     "data": {
      "text/plain": [
       "datetime.datetime(2019, 9, 23, 0, 0)"
      ]
     },
     "execution_count": 24,
     "metadata": {},
     "output_type": "execute_result"
    }
   ],
   "source": [
    "cur_time"
   ]
  },
  {
   "cell_type": "code",
   "execution_count": 6,
   "metadata": {},
   "outputs": [
    {
     "data": {
      "text/plain": [
       "datetime.datetime(2019, 9, 16, 0, 0)"
      ]
     },
     "execution_count": 6,
     "metadata": {},
     "output_type": "execute_result"
    }
   ],
   "source": [
    "last_week"
   ]
  },
  {
   "cell_type": "code",
   "execution_count": 7,
   "metadata": {},
   "outputs": [],
   "source": [
    "# forecast = forecastio.load_forecast(\n",
    "#             dark_sky_api_key,\n",
    "#             home_latitude,\n",
    "#             home_longitude,\n",
    "#             time=last_week\n",
    "#             )"
   ]
  },
  {
   "cell_type": "code",
   "execution_count": 8,
   "metadata": {},
   "outputs": [],
   "source": [
    "# daily = forecast.daily()\n",
    "\n",
    "# days_over_low = 0\n",
    "# for data in daily.data:\n",
    "#     if data.apparentTemperatureLow > LOW_TEMP:\n",
    "#         days_over_low += 1"
   ]
  },
  {
   "cell_type": "code",
   "execution_count": 9,
   "metadata": {},
   "outputs": [],
   "source": [
    "# days_over_low"
   ]
  },
  {
   "cell_type": "code",
   "execution_count": 10,
   "metadata": {},
   "outputs": [],
   "source": [
    "# daily.data"
   ]
  },
  {
   "cell_type": "code",
   "execution_count": 11,
   "metadata": {},
   "outputs": [],
   "source": [
    "# for data in daily.data:\n",
    "#     print(data)"
   ]
  },
  {
   "cell_type": "code",
   "execution_count": 12,
   "metadata": {},
   "outputs": [],
   "source": [
    "# hourly = forecast.daily()\n",
    "# len(hourly.data)"
   ]
  },
  {
   "cell_type": "code",
   "execution_count": 4,
   "metadata": {},
   "outputs": [],
   "source": [
    "import functools\n",
    "\n",
    "@functools.lru_cache(maxsize=14)\n",
    "def get_historic(dark_sky_api_key,\n",
    "            home_latitude,\n",
    "            home_longitude,\n",
    "            time):\n",
    "    \n",
    "    forecast = forecastio.load_forecast(\n",
    "            dark_sky_api_key,\n",
    "            home_latitude,\n",
    "            home_longitude,\n",
    "            time\n",
    "            )\n",
    "    \n",
    "    daily = forecast.daily()\n",
    "    \n",
    "    return daily\n",
    "\n",
    "def get_forecast(dark_sky_api_key,\n",
    "            home_latitude,\n",
    "            home_longitude):\n",
    "    \n",
    "    forecast = forecastio.load_forecast(\n",
    "            dark_sky_api_key,\n",
    "            home_latitude,\n",
    "            home_longitude\n",
    "            )\n",
    "    \n",
    "    daily = forecast.daily()\n",
    "    \n",
    "    return daily\n",
    "    "
   ]
  },
  {
   "cell_type": "code",
   "execution_count": 16,
   "metadata": {},
   "outputs": [
    {
     "name": "stdout",
     "output_type": "stream",
     "text": [
      "<class 'list'>\n"
     ]
    }
   ],
   "source": [
    "combigned_data = cur_daily.data\n",
    "print(type(combigned_data))"
   ]
  },
  {
   "cell_type": "code",
   "execution_count": 14,
   "metadata": {},
   "outputs": [
    {
     "data": {
      "text/plain": [
       "{'d': {'apparentTemperatureHigh': 89.6,\n",
       "  'apparentTemperatureHighTime': 1569452400,\n",
       "  'apparentTemperatureLow': 70.43,\n",
       "  'apparentTemperatureLowTime': 1569502800,\n",
       "  'apparentTemperatureMax': 89.6,\n",
       "  'apparentTemperatureMaxTime': 1569452400,\n",
       "  'apparentTemperatureMin': 70.87,\n",
       "  'apparentTemperatureMinTime': 1569416400,\n",
       "  'cloudCover': 0.36,\n",
       "  'dewPoint': 60.54,\n",
       "  'humidity': 0.56,\n",
       "  'icon': 'rain',\n",
       "  'moonPhase': 0.9,\n",
       "  'ozone': 287,\n",
       "  'precipIntensity': 0.008,\n",
       "  'precipIntensityMax': 0.069,\n",
       "  'precipIntensityMaxTime': 1569466800,\n",
       "  'precipProbability': 0.47,\n",
       "  'precipType': 'rain',\n",
       "  'pressure': 1009.47,\n",
       "  'summary': 'Possible light rain overnight.',\n",
       "  'sunriseTime': 1569417490,\n",
       "  'sunsetTime': 1569460865,\n",
       "  'temperatureHigh': 89.6,\n",
       "  'temperatureHighTime': 1569452400,\n",
       "  'temperatureLow': 69.82,\n",
       "  'temperatureLowTime': 1569502800,\n",
       "  'temperatureMax': 89.6,\n",
       "  'temperatureMaxTime': 1569452400,\n",
       "  'temperatureMin': 70.84,\n",
       "  'temperatureMinTime': 1569416400,\n",
       "  'time': 1569394800,\n",
       "  'uvIndex': 7,\n",
       "  'uvIndexTime': 1569438000,\n",
       "  'visibility': 9.753,\n",
       "  'windBearing': 114,\n",
       "  'windGust': 13.08,\n",
       "  'windGustTime': 1569470400,\n",
       "  'windSpeed': 4.42},\n",
       " 'sunriseTime': datetime.datetime(2019, 9, 25, 13, 18, 10),\n",
       " 'sunsetTime': datetime.datetime(2019, 9, 26, 1, 21, 5),\n",
       " 'time': datetime.datetime(2019, 9, 25, 7, 0),\n",
       " 'utime': 1569394800}"
      ]
     },
     "execution_count": 14,
     "metadata": {},
     "output_type": "execute_result"
    }
   ],
   "source": [
    "cur_daily.data[0].__dict__"
   ]
  },
  {
   "cell_type": "code",
   "execution_count": 5,
   "metadata": {},
   "outputs": [],
   "source": [
    "cur_daily = get_forecast(dark_sky_api_key,\n",
    "            home_latitude,\n",
    "            home_longitude)"
   ]
  },
  {
   "cell_type": "code",
   "execution_count": 6,
   "metadata": {},
   "outputs": [
    {
     "name": "stdout",
     "output_type": "stream",
     "text": [
      "<ForecastioDataPoint instance: Possible light rain overnight. at 2019-09-25 07:00:00>\n",
      "70.43 1569502800\n",
      "<ForecastioDataPoint instance: Partly cloudy throughout the day. at 2019-09-26 07:00:00>\n",
      "67.55 1569589200\n",
      "<ForecastioDataPoint instance: Clear throughout the day. at 2019-09-27 07:00:00>\n",
      "67.74 1569672000\n",
      "<ForecastioDataPoint instance: Clear throughout the day. at 2019-09-28 07:00:00>\n",
      "68.14 1569762000\n",
      "<ForecastioDataPoint instance: Clear throughout the day. at 2019-09-29 07:00:00>\n",
      "62.99 1569848400\n",
      "<ForecastioDataPoint instance: Clear throughout the day. at 2019-09-30 07:00:00>\n",
      "59.76 1569934800\n",
      "<ForecastioDataPoint instance: Clear throughout the day. at 2019-10-01 07:00:00>\n",
      "59.58 1570017600\n",
      "<ForecastioDataPoint instance: Clear throughout the day. at 2019-10-02 07:00:00>\n",
      "59.79 1570104000\n"
     ]
    }
   ],
   "source": [
    "len(cur_daily.data)\n",
    "for data in cur_daily.data:\n",
    "    print(data)\n",
    "    print(data., data.apparentTemperatureLowTime )"
   ]
  },
  {
   "cell_type": "code",
   "execution_count": 14,
   "metadata": {},
   "outputs": [],
   "source": [
    "daily = get_forecast(dark_sky_api_key,\n",
    "            home_latitude,\n",
    "            home_longitude,\n",
    "            time=last_week)"
   ]
  },
  {
   "cell_type": "code",
   "execution_count": 15,
   "metadata": {},
   "outputs": [],
   "source": [
    "import time\n",
    "\n",
    "def epoch_to_date(ts):\n",
    "    t = datetime.utcfromtimestamp(float(ts))\n",
    "    return  t"
   ]
  },
  {
   "cell_type": "code",
   "execution_count": 16,
   "metadata": {},
   "outputs": [
    {
     "data": {
      "text/plain": [
       "datetime.datetime(2019, 9, 17, 12, 0)"
      ]
     },
     "execution_count": 16,
     "metadata": {},
     "output_type": "execute_result"
    }
   ],
   "source": [
    "epoch_to_date(1568721600)"
   ]
  },
  {
   "cell_type": "code",
   "execution_count": 17,
   "metadata": {},
   "outputs": [
    {
     "name": "stdout",
     "output_type": "stream",
     "text": [
      "2019-09-16 00:00:00\n",
      "<ForecastioDataPoint instance: Partly cloudy throughout the day. at 2019-09-16 07:00:00>\n",
      "72.51 1568721600\n"
     ]
    }
   ],
   "source": [
    "print(last_week)\n",
    "for data in daily.data:\n",
    "    print(data)\n",
    "    print(data.apparentTemperatureLow, data.apparentTemperatureLowTime )"
   ]
  },
  {
   "cell_type": "code",
   "execution_count": 23,
   "metadata": {},
   "outputs": [
    {
     "data": {
      "text/plain": [
       "CacheInfo(hits=8, misses=7, maxsize=14, currsize=7)"
      ]
     },
     "execution_count": 23,
     "metadata": {},
     "output_type": "execute_result"
    }
   ],
   "source": [
    "get_forecast.cache_info()"
   ]
  },
  {
   "cell_type": "code",
   "execution_count": 22,
   "metadata": {},
   "outputs": [
    {
     "name": "stdout",
     "output_type": "stream",
     "text": [
      "2019-09-16 00:00:00\n",
      "72.51\n",
      "2019-09-17 00:00:00\n",
      "76.19\n",
      "2019-09-18 00:00:00\n",
      "77.52\n",
      "2019-09-19 00:00:00\n",
      "70.67\n",
      "2019-09-20 00:00:00\n",
      "68.29\n",
      "2019-09-21 00:00:00\n",
      "67.95\n",
      "2019-09-22 00:00:00\n",
      "75\n"
     ]
    }
   ],
   "source": [
    "days_over_low = 0\n",
    "\n",
    "cur_time = datetime.utcnow()\n",
    "cur_time = cur_time.replace(hour=0, minute=0, second=0, microsecond=0)\n",
    "last_week = cur_time - timedelta(days=7)\n",
    "\n",
    "for i in range(7):\n",
    "    prev_day = last_week + timedelta(days=i)\n",
    "    print(prev_day)\n",
    "    \n",
    "    daily = get_forecast(dark_sky_api_key,\n",
    "            home_latitude,\n",
    "            home_longitude,\n",
    "            time=prev_day)\n",
    "    \n",
    "#     forecast = forecastio.load_forecast(\n",
    "#             dark_sky_api_key,\n",
    "#             home_latitude,\n",
    "#             home_longitude,\n",
    "#             time=prev_day\n",
    "#             )\n",
    "    \n",
    "#     daily = forecast.daily()\n",
    "    \n",
    "    for data in daily.data:\n",
    "        print(data.apparentTemperatureLow)\n",
    "        if data.apparentTemperatureLow > LOW_TEMP:\n",
    "            days_over_low += 1"
   ]
  },
  {
   "cell_type": "code",
   "execution_count": 20,
   "metadata": {},
   "outputs": [
    {
     "data": {
      "text/plain": [
       "7"
      ]
     },
     "execution_count": 20,
     "metadata": {},
     "output_type": "execute_result"
    }
   ],
   "source": [
    "days_over_low"
   ]
  },
  {
   "cell_type": "code",
   "execution_count": 17,
   "metadata": {},
   "outputs": [],
   "source": [
    "def get_combigned_temps(conf):\n",
    "    \n",
    "    cur_time = datetime.utcnow()\n",
    "    cur_time = cur_time.replace(hour=0, minute=0, second=0, microsecond=0)\n",
    "    last_week = cur_time - timedelta(days=7)\n",
    "    days_over_low = 0\n",
    "    \n",
    "    combigned_data = []\n",
    "    \n",
    "    # Have to call for each day\n",
    "    for i in range(7):\n",
    "        prev_day = last_week + timedelta(days=i)            \n",
    "        daily = get_historic(\n",
    "            dark_sky_api_key,\n",
    "            home_latitude,\n",
    "            home_longitude,\n",
    "            time=prev_day\n",
    "            )\n",
    "        combigned_data.extend(daily.data)\n",
    "        \n",
    "    forecast = forecastio.load_forecast(\n",
    "            dark_sky_api_key,\n",
    "                home_latitude,\n",
    "                home_longitude\n",
    "            )\n",
    "    daily = forecast.daily()\n",
    "    combigned_data.extend(daily.data)\n",
    "    \n",
    "    return combigned_data\n",
    "            \n",
    "    "
   ]
  },
  {
   "cell_type": "code",
   "execution_count": 18,
   "metadata": {},
   "outputs": [],
   "source": [
    "cdata = get_combigned_temps(1)"
   ]
  },
  {
   "cell_type": "code",
   "execution_count": 22,
   "metadata": {},
   "outputs": [
    {
     "name": "stdout",
     "output_type": "stream",
     "text": [
      "2019-09-18 07:00:00 101.07 77.58\n",
      "2019-09-19 07:00:00 100.62 70.65\n",
      "2019-09-20 07:00:00 96.93 68.25\n",
      "2019-09-21 07:00:00 93.51 67.95\n",
      "2019-09-22 07:00:00 96.59 75.07\n",
      "2019-09-23 07:00:00 93.51 68.77\n",
      "2019-09-24 07:00:00 85.19 70.87\n",
      "2019-09-25 07:00:00 89.6 70.43\n",
      "2019-09-26 07:00:00 85.46 67.55\n",
      "2019-09-27 07:00:00 86.45 67.73\n",
      "2019-09-28 07:00:00 91.92 68.14\n",
      "2019-09-29 07:00:00 88.68 62.99\n",
      "2019-09-30 07:00:00 90.04 59.76\n",
      "2019-10-01 07:00:00 87.78 59.58\n",
      "2019-10-02 07:00:00 88.85 59.79\n"
     ]
    }
   ],
   "source": [
    "for d in cdata:\n",
    "    print(d.time, d.apparentTemperatureHigh, d.apparentTemperatureLow)"
   ]
  },
  {
   "cell_type": "code",
   "execution_count": 37,
   "metadata": {},
   "outputs": [],
   "source": [
    "def get_ideal_overseeding_days(conf):\n",
    "    \n",
    "    DAYTIME_HIGH = 90\n",
    "    DAYTIME_LOW = 85\n",
    "    NIGHTIME_HIGH = 67\n",
    "    NIGHTIME_LOW = 62\n",
    "    \n",
    "    days_over_low = 0\n",
    "    combigned_data = get_combigned_temps(conf)\n",
    "    \n",
    "    for data in combigned_data:\n",
    "        if (data.apparentTemperatureHigh > DAYTIME_LOW and \n",
    "            data.apparentTemperatureHigh < DAYTIME_HIGH) and (data.apparentTemperatureLow > NIGHTIME_LOW and\n",
    "             data.apparentTemperatureLow < NIGHTIME_HIGH):\n",
    "            print(data.apparentTemperatureHigh, data.apparentTemperatureLow)   \n",
    "            days_over_low += 1\n",
    "            \n",
    "    return days_over_low\n",
    "    "
   ]
  },
  {
   "cell_type": "code",
   "execution_count": 38,
   "metadata": {},
   "outputs": [
    {
     "name": "stdout",
     "output_type": "stream",
     "text": [
      "88.68 62.99\n"
     ]
    },
    {
     "data": {
      "text/plain": [
       "1"
      ]
     },
     "execution_count": 38,
     "metadata": {},
     "output_type": "execute_result"
    }
   ],
   "source": [
    "get_overseeding_days(1)"
   ]
  },
  {
   "cell_type": "code",
   "execution_count": null,
   "metadata": {},
   "outputs": [],
   "source": []
  },
  {
   "cell_type": "code",
   "execution_count": 50,
   "metadata": {},
   "outputs": [],
   "source": [
    "def get_days(conf, historic=False):\n",
    "    \"\"\"Get number of day.\"\"\"\n",
    "    cur_time = datetime.utcnow()\n",
    "    cur_time = cur_time.replace(hour=0, minute=0, second=0, microsecond=0)\n",
    "    last_week = cur_time - timedelta(days=7)\n",
    "    days_over_low = 0\n",
    "\n",
    "    if historic:\n",
    "        # Have to call for each day\n",
    "        for i in range(7):\n",
    "            prev_day = last_week + timedelta(days=i)            \n",
    "            daily = get_historic(\n",
    "                dark_sky_api_key,\n",
    "                home_latitude,\n",
    "                home_longitude,\n",
    "                time=prev_day\n",
    "                )\n",
    "            \n",
    "            for data in daily.data:\n",
    "                print(data.apparentTemperatureLow, epoch_to_date(data.apparentTemperatureLowTime))\n",
    "                if data.apparentTemperatureLow > LOW_TEMP:\n",
    "                    days_over_low += 1\n",
    "        \n",
    "    else:\n",
    "        forecast = forecastio.load_forecast(\n",
    "            dark_sky_api_key,\n",
    "                home_latitude,\n",
    "                home_longitude\n",
    "            )\n",
    "        daily = forecast.daily()\n",
    "        \n",
    "        for data in daily.data:\n",
    "            print(data.apparentTemperatureLow, epoch_to_date(data.apparentTemperatureLowTime))\n",
    "            if data.apparentTemperatureLow > LOW_TEMP:\n",
    "                days_over_low += 1\n",
    "\n",
    "    return days_over_low"
   ]
  },
  {
   "cell_type": "code",
   "execution_count": 52,
   "metadata": {},
   "outputs": [
    {
     "name": "stdout",
     "output_type": "stream",
     "text": [
      "72.51 2019-09-17 12:00:00\n",
      "76.19 2019-09-18 13:00:00\n",
      "77.52 2019-09-19 13:00:00\n",
      "70.67 2019-09-20 13:00:00\n",
      "68.29 2019-09-21 13:00:00\n",
      "67.95 2019-09-22 13:00:00\n",
      "75 2019-09-23 13:00:00\n",
      "7\n",
      "70.75 2019-09-24 12:00:00\n",
      "70.55 2019-09-25 12:00:00\n",
      "70.99 2019-09-26 12:00:00\n",
      "67.55 2019-09-27 13:00:00\n",
      "66.62 2019-09-28 13:00:00\n",
      "69.4 2019-09-29 13:00:00\n",
      "61.95 2019-09-30 13:00:00\n",
      "57.58 2019-10-01 12:00:00\n",
      "7\n"
     ]
    }
   ],
   "source": [
    "print(get_days(1, True))\n",
    "print(get_days(1))"
   ]
  },
  {
   "cell_type": "code",
   "execution_count": null,
   "metadata": {},
   "outputs": [],
   "source": []
  }
 ],
 "metadata": {
  "kernelspec": {
   "display_name": "Python 3",
   "language": "python",
   "name": "python3"
  },
  "language_info": {
   "codemirror_mode": {
    "name": "ipython",
    "version": 3
   },
   "file_extension": ".py",
   "mimetype": "text/x-python",
   "name": "python",
   "nbconvert_exporter": "python",
   "pygments_lexer": "ipython3",
   "version": "3.5.6"
  }
 },
 "nbformat": 4,
 "nbformat_minor": 2
}
